{
 "cells": [
  {
   "cell_type": "markdown",
   "metadata": {
    "nbpresent": {
     "id": "0d6aaa5d-29d2-4da9-92bc-04a4ebf62d29"
    },
    "slideshow": {
     "slide_type": "slide"
    }
   },
   "source": [
    "# Introduction to programming with Python\n",
    "## dr. ir. Pieter-Jan Volders"
   ]
  },
  {
   "cell_type": "code",
   "execution_count": 1,
   "metadata": {
    "nbpresent": {
     "id": "0ccbd712-bd74-4a17-8bdf-0eacc452098a"
    },
    "scrolled": true,
    "slideshow": {
     "slide_type": "-"
    }
   },
   "outputs": [
    {
     "name": "stdout",
     "output_type": "stream",
     "text": [
      "Hello world!\n"
     ]
    }
   ],
   "source": [
    "print(\"Hello world!\")"
   ]
  },
  {
   "cell_type": "markdown",
   "metadata": {
    "nbpresent": {
     "id": "981bdcc8-642a-45cf-8449-93e3b3e18c9f"
    },
    "slideshow": {
     "slide_type": "slide"
    }
   },
   "source": [
    "# What is Python?"
   ]
  },
  {
   "cell_type": "markdown",
   "metadata": {
    "slideshow": {
     "slide_type": "notes"
    }
   },
   "source": [
    "Do you speak computer? Python is a programming language, a language we can use to make computers do what we want. There's hundreds if not thousands of programming languages you can learn. So what's special about this one?"
   ]
  },
  {
   "cell_type": "markdown",
   "metadata": {
    "nbpresent": {
     "id": "5b68e052-2e16-411b-8863-0f9a77e6e69e"
    },
    "slideshow": {
     "slide_type": "fragment"
    }
   },
   "source": [
    "> Python is a widely used high-level programming language for general-purpose programming. - *Wikipedia*"
   ]
  },
  {
   "cell_type": "markdown",
   "metadata": {
    "slideshow": {
     "slide_type": "notes"
    }
   },
   "source": [
    "So Python is popular, big deal? Yes! Because it is widely used, it is very easy to find example code and tutorials online. There's also plenty of books on Python and a large community of developers that work on improving the language. Programmers can contribute to the Python universe by writing packages that other programmers can use. A very active community means there's a lot of packages out there. In other words: if you have a *thing* you want to do in Python, it is very likely somebody else already did the *thing* and you can just use their code. \n",
    "\n",
    "The Wikipedia quote also mentions that Python is a *high-level* programming level. Don't worry if you are afraid of heights, in computer terms the higher you are, the less you have to worry about what is happening with the hardware (the hardware level is the lowest level). In a *low-level* programming language you, for instance, have to define how and where you will be storing data in the memory of your computer. Programmers use *high-level* programming languages so they can focus on solving their problem quickly while *low-level* languages are used to optimise the speed and efficiency of a certain task.\n",
    "\n",
    "Python can be used for a wide range of applications. From app and website development to manipulating robots and more. More important for us, it is very popular in scientific computing through packages such as NumPy, SciPy and Matplotlib. There's even a package called Biopython that makes it easy to work with DNA and RNA sequences from databases and sequencers.\n",
    "\n",
    "The previous quote however, can also be applied to other programming languages such as Perl, Ruby or JavaScript. So what distinguishes Python from those languages? Here's a quote from Mark Lutz, an author who wrote several books on Python."
   ]
  },
  {
   "cell_type": "markdown",
   "metadata": {
    "slideshow": {
     "slide_type": "fragment"
    }
   },
   "source": [
    "> Python is a powerful multiparadigm computer programming language, optimized for programmer **productivity**, code **readability** and software **quality**. - *Mark Lutz*"
   ]
  },
  {
   "cell_type": "markdown",
   "metadata": {
    "slideshow": {
     "slide_type": "slide"
    }
   },
   "source": [
    "## Code readability"
   ]
  },
  {
   "cell_type": "markdown",
   "metadata": {
    "slideshow": {
     "slide_type": "notes"
    }
   },
   "source": [
    "Some people say that good code reads like a book. While this is mostly the task of the programmer him/herself, the language definitely helps! Have a look at the following bit of Python code. Can you guess what it does?"
   ]
  },
  {
   "cell_type": "code",
   "execution_count": 2,
   "metadata": {
    "slideshow": {
     "slide_type": "-"
    }
   },
   "outputs": [
    {
     "name": "stdout",
     "output_type": "stream",
     "text": [
      "W\n",
      "E\n",
      "L\n",
      "C\n",
      "O\n",
      "M\n",
      "E\n"
     ]
    }
   ],
   "source": [
    "for letter in \"welcome\":\n",
    "    print( letter.upper() )"
   ]
  },
  {
   "cell_type": "markdown",
   "metadata": {
    "slideshow": {
     "slide_type": "notes"
    }
   },
   "source": [
    "Eventhough this might be the first piece of Python you ever see and this small example already includes some advanced concepts such as object-oriented programming, it is pretty easy to grasp its function. Let's read it in human language:\n",
    "\n",
    "> For every letter in the word welcome, print that letter uppercase.\n",
    "\n",
    "Below is the same thing in a different programming language called C. Do you see the point of code readability? Don't stare at it for too long, let's move on and appreciate the simplicity of Python!"
   ]
  },
  {
   "cell_type": "markdown",
   "metadata": {
    "slideshow": {
     "slide_type": "subslide"
    }
   },
   "source": [
    "```C\n",
    "#include <stdio.h>\n",
    " \n",
    "int main () {\n",
    "\n",
    "  char my_string[] = \"welcome\";\n",
    "  int i;\n",
    "  char i_char;\n",
    "\n",
    "  for ( i = 0; my_string[i] != '\\0'; i++ ) {\n",
    "    i_char = my_string[i] - 32;\n",
    "    printf(\"%c\\n\", i_char);\n",
    "  }\n",
    " \n",
    "  return 0;\n",
    "}\n",
    "```"
   ]
  },
  {
   "cell_type": "markdown",
   "metadata": {
    "slideshow": {
     "slide_type": "fragment"
    }
   },
   "source": [
    "Having *readable* code is not only helpful for beginner programmers. It makes it easier to share your code and come back to work you have written ages ago."
   ]
  },
  {
   "cell_type": "markdown",
   "metadata": {
    "slideshow": {
     "slide_type": "slide"
    }
   },
   "source": [
    "# How to write and run Python programs"
   ]
  },
  {
   "cell_type": "markdown",
   "metadata": {
    "slideshow": {
     "slide_type": "-"
    }
   },
   "source": [
    "## The Python prompt: running code interactively"
   ]
  },
  {
   "cell_type": "markdown",
   "metadata": {
    "slideshow": {
     "slide_type": "notes"
    }
   },
   "source": [
    "The interactive Python prompt or *command-line interface* is the most basic way to run Python code and is available on all systems where Python is installed. You can start an interactive Python session by typing `python` in the Terminal (Mac & Linux) or Command Prompt (Windows) or click the appropriate icon if available. When a new session is started, it prompts for input with `>>>` and executes your code as soon as you press the Enter/Return key. The result (or *output*) of your code is displayed immediately below the input line and a new prompt (`>>>`) appears. Variables are stored until the session is closed by typing `exit()`, pressing `Ctrl-D` or just closing the window.\n",
    "\n",
    "We will discus multiline statements and blocks such as `if` tests of `for` loops later, but it is worth noting here  that in order to end such multiline statements in the Python prompt you must press the Enter key twice.\n",
    "\n",
    "The Python prompt is useful for experimenting with Python or testing small chunks of code. It is not so useful for writing actual programs or scripts since there is no way to store your code or even modify a previous statement. Imagine you discover you've made a mistake on your first line when you are working on your 100th... Nevertheless, it is a great tool for learning or quickly trying out complex statements. Even some advanced Python developers like to keep a prompt at hand while they are programming!"
   ]
  },
  {
   "cell_type": "markdown",
   "metadata": {
    "slideshow": {
     "slide_type": "-"
    }
   },
   "source": [
    "![Python 3 prompt on Windows](images/python_prompt.png \"Python 3 prompt on Windows\")"
   ]
  },
  {
   "cell_type": "markdown",
   "metadata": {
    "slideshow": {
     "slide_type": "slide"
    }
   },
   "source": [
    "## Writing Python with a code editor or IDE"
   ]
  },
  {
   "cell_type": "markdown",
   "metadata": {
    "slideshow": {
     "slide_type": "notes"
    }
   },
   "source": [
    "Since Python code is stored in a plain text format (think of it as a `.txt` file) you can write it with any editor, even notepad or good old MS Word. It is however much more convenient to use editors specifically designed for programming, or *code editors*. These programs assist you in writing and structuring your code, make programming faster by auto-completing and give visual cues that help you spot mistakes. \n",
    "\n",
    "An important feature of code editors is syntax highlighting. Take a look at the code examples in the [previous section](#Code-readability). Note how parts of the code have distinct colors and typography. As a result, control flow statements such as ```for``` appear very different from strings such as `\"welcome\"`. When you learn how to program, you will automatically learn how to use these visual cues and spot typo's in your code.\n",
    "\n",
    "Python code is saved in `.py` files. While some code editors have the option to run the code directly in the editor, most programmers will run their code directly using a command-line interface. This however requires some knowledge of using terminals and command prompts and is out of the scope of this introduction. [The Python installation manual](https://docs.python.org/3/using/windows.html) is a good place to start when researching how to install Python and run Python programs on your own computer.\n",
    "\n",
    "Popular code editors are [Sublime Text](https://www.sublimetext.com/), [Atom](https://atom.io) and [Notepad++](https://notepad-plus-plus.org). All these support Python and many, many more languages."
   ]
  },
  {
   "cell_type": "markdown",
   "metadata": {
    "slideshow": {
     "slide_type": "-"
    }
   },
   "source": [
    "![Sublime Text 3 on MacOS](images/sublime_text.png \"Sublime Text 3 on MacOS\")"
   ]
  },
  {
   "cell_type": "markdown",
   "metadata": {
    "slideshow": {
     "slide_type": "notes"
    }
   },
   "source": [
    "For large Python projects, the really hard-core Python developers will use advanced software called integrated development environment or IDE. Compared to code editors, these programs help manage software that consists of multiple Python scripts and are generally have even smarter autocomplete and code annotation features. Notable examples are [Eclipse](https://eclipse.org) and [PyCharm](https://www.jetbrains.com/pycharm)."
   ]
  },
  {
   "cell_type": "markdown",
   "metadata": {
    "slideshow": {
     "slide_type": "slide"
    }
   },
   "source": [
    "## Jupyter notebooks"
   ]
  },
  {
   "cell_type": "markdown",
   "metadata": {
    "slideshow": {
     "slide_type": "notes"
    }
   },
   "source": [
    "Jupyter notebooks (previously called iPython notebooks) are a great tool for learning Python. You can write, test, edit and run Python code without using any external software. In addition to code, notebooks can contain text with markup, mathematical formulas and images. They are widely popular in data science since you can store the code, output and written report in the same file! You can even export your notebook as a presentation or PDF. In fact, you are reading an exported notebook right now!\n",
    "\n",
    "The most convenient way to install the software required to open and create Jupyter notebooks is through the [Anaconda platform](https://www.anaconda.com/download)."
   ]
  },
  {
   "cell_type": "markdown",
   "metadata": {
    "slideshow": {
     "slide_type": "-"
    }
   },
   "source": [
    "![Jupyter notebook with Python code](images/jupyter.png \"Jupyter notebook with Python code\")"
   ]
  },
  {
   "cell_type": "markdown",
   "metadata": {
    "slideshow": {
     "slide_type": "slide"
    }
   },
   "source": [
    "# Elements of Python"
   ]
  },
  {
   "cell_type": "markdown",
   "metadata": {
    "slideshow": {
     "slide_type": "notes"
    }
   },
   "source": [
    "All this talk about Python! Enough already! Let's get programming!\n",
    "\n",
    "What follows is by no means a complete guide or manual to Python, merely an (incomplete) overview of the different elements that make up the language. Think of programming as cooking. Today we will go over all the ingredients we need and in the practical sessions, you'll learn how to combine them into delicious dishes. Ready to make some awesome Python soup? Here's your shopping list:"
   ]
  },
  {
   "cell_type": "markdown",
   "metadata": {
    "slideshow": {
     "slide_type": "-"
    }
   },
   "source": [
    " - Variables\n",
    " - Lists and dictionaries\n",
    " - Functions\n",
    " - Methods\n",
    " - Tests\n",
    " - Control flow statements\n",
    " - Errors\n",
    " - Libraries"
   ]
  },
  {
   "cell_type": "markdown",
   "metadata": {
    "slideshow": {
     "slide_type": "notes"
    }
   },
   "source": [
    "![A bowl of delicious ramen](images/ramen.png \"A bowl of delicious ramen\")"
   ]
  },
  {
   "cell_type": "markdown",
   "metadata": {
    "nbpresent": {
     "id": "2329728d-29b7-4ced-9b59-05a71e044be7"
    },
    "slideshow": {
     "slide_type": "slide"
    }
   },
   "source": [
    "## Variables"
   ]
  },
  {
   "cell_type": "markdown",
   "metadata": {
    "slideshow": {
     "slide_type": "-"
    }
   },
   "source": [
    "### First steps"
   ]
  },
  {
   "cell_type": "markdown",
   "metadata": {
    "slideshow": {
     "slide_type": "-"
    }
   },
   "source": [
    "Let's write our first Python program. Something simple like"
   ]
  },
  {
   "cell_type": "code",
   "execution_count": 3,
   "metadata": {
    "slideshow": {
     "slide_type": "-"
    }
   },
   "outputs": [
    {
     "data": {
      "text/plain": [
       "2"
      ]
     },
     "execution_count": 3,
     "metadata": {},
     "output_type": "execute_result"
    }
   ],
   "source": [
    "1+1"
   ]
  },
  {
   "cell_type": "markdown",
   "metadata": {
    "slideshow": {
     "slide_type": "notes"
    }
   },
   "source": [
    "That was simple right? So simple it is hard to believe it is an actual program. But it is! The code I just wrote was processed by the Python interpreter and the output is returned and displayed on the screen. Python is great calculator, `+`, `-`, `/`, `*`, ... it is all there! Math is important in programming, but programs are much more than a list of calculations. The first thing we'll need to go from a simple calculation to a multiline program is a way to store *values*, so we can use them later in our program. That's where variables come in."
   ]
  },
  {
   "cell_type": "code",
   "execution_count": 4,
   "metadata": {
    "collapsed": true,
    "nbpresent": {
     "id": "34a31f71-378f-49ca-8dbe-b4760f5f7ecf"
    },
    "slideshow": {
     "slide_type": "fragment"
    }
   },
   "outputs": [],
   "source": [
    "result = 1+1"
   ]
  },
  {
   "cell_type": "markdown",
   "metadata": {
    "slideshow": {
     "slide_type": "notes"
    }
   },
   "source": [
    "We have now stored the result of our calculation in a variable. This process is refered to as *variable assignment* and happens in the form of `x = expr` where `x` is the name of the variable and everything right of the equation mark an *expression*. The expression will be evaluated and the result will be assigned to the variable name. We can now use and reuse this variable:"
   ]
  },
  {
   "cell_type": "code",
   "execution_count": 5,
   "metadata": {
    "nbpresent": {
     "id": "f32a5428-b88a-42c8-ae43-bf3bdbd955c7"
    },
    "slideshow": {
     "slide_type": "fragment"
    }
   },
   "outputs": [
    {
     "data": {
      "text/plain": [
       "6"
      ]
     },
     "execution_count": 5,
     "metadata": {},
     "output_type": "execute_result"
    }
   ],
   "source": [
    "result = result + 4\n",
    "result"
   ]
  },
  {
   "cell_type": "markdown",
   "metadata": {
    "slideshow": {
     "slide_type": "notes"
    }
   },
   "source": [
    "Let's go over what happened here. First, we have used our variable `result` in an expression (`result + 4`) and assigned the result of the expression to the same variable name. This means our first result (2) is lost, it's overwritten so to speak. On the next line we evaluate the variable to see it's current value. "
   ]
  },
  {
   "cell_type": "markdown",
   "metadata": {
    "nbpresent": {
     "id": "6e853e65-bd54-48fa-aa1a-bc21c8091320"
    },
    "slideshow": {
     "slide_type": "slide"
    }
   },
   "source": [
    "### Variable names"
   ]
  },
  {
   "cell_type": "markdown",
   "metadata": {
    "slideshow": {
     "slide_type": "fragment"
    }
   },
   "source": [
    "A variable name is a combination of letters, numbers and underscores. Other characters, such as @, \\$, %, - and spaces are not allowed. \n",
    "```Python\n",
    "this_is_ok = 10\n",
    "this is not = 10 # ERROR!\n",
    "```"
   ]
  },
  {
   "cell_type": "markdown",
   "metadata": {
    "slideshow": {
     "slide_type": "fragment"
    }
   },
   "source": [
    "Variable names cannot start with numbers\n",
    "```Python\n",
    "variable1 = 10.5\n",
    "1variable = 10.5 # ERROR!\n",
    "```"
   ]
  },
  {
   "cell_type": "markdown",
   "metadata": {
    "slideshow": {
     "slide_type": "fragment"
    }
   },
   "source": [
    "Case matters, these are two different variables\n",
    "```python\n",
    "spam = 2\n",
    "Spam = 2\n",
    "```"
   ]
  },
  {
   "cell_type": "markdown",
   "metadata": {
    "slideshow": {
     "slide_type": "subslide"
    }
   },
   "source": [
    "Reserved words such as `if`, `not`, `and`, ... are not allowed as variable names.\n",
    "```Python\n",
    "if = 456  # ERROR!\n",
    "```"
   ]
  },
  {
   "cell_type": "markdown",
   "metadata": {
    "slideshow": {
     "slide_type": "notes"
    }
   },
   "source": [
    "Reserved words are words that serve important functions in the Python language and cannot be used as variable names to avoid confusion. Later in this introduction, we will encouter some of these words. There is no need to learn them by heart, syntax highlighting is here te help! Can you see that the `if` in the previous example has a different color then the other variable names? This is syntax highlighting telling you \"`If` is an important word in Python, you better not try to do anything funny with it\"."
   ]
  },
  {
   "cell_type": "markdown",
   "metadata": {
    "slideshow": {
     "slide_type": "fragment"
    }
   },
   "source": [
    "There's no error when you use function names as variable names but this will overwrite the function! \n",
    "```Python\n",
    "print = 11001  # no error\n",
    "print(\"help\")  # ERROR!\n",
    "```"
   ]
  },
  {
   "cell_type": "markdown",
   "metadata": {
    "slideshow": {
     "slide_type": "notes"
    }
   },
   "source": [
    "When a function is overwritten, it can no longer be used. We will talk about functions later."
   ]
  },
  {
   "cell_type": "markdown",
   "metadata": {
    "slideshow": {
     "slide_type": "fragment"
    }
   },
   "source": [
    "Meaningful variable names are encouraged.\n",
    "```Python\n",
    "a = 10\n",
    "my_favorite_number = 10\n",
    "```"
   ]
  },
  {
   "cell_type": "markdown",
   "metadata": {
    "slideshow": {
     "slide_type": "slide"
    }
   },
   "source": [
    "### Basic variable types"
   ]
  },
  {
   "cell_type": "markdown",
   "metadata": {
    "slideshow": {
     "slide_type": "notes"
    }
   },
   "source": [
    "So far we have only used numbers as values for our variables. Off course, there are other options as well. Variables thus have a *name*, a *value* and a *type*. Let's create a few variables and check their types with the `type()` function."
   ]
  },
  {
   "cell_type": "code",
   "execution_count": 6,
   "metadata": {
    "collapsed": true,
    "slideshow": {
     "slide_type": "-"
    }
   },
   "outputs": [],
   "source": [
    "variable_a = 1\n",
    "variable_b = 1.1"
   ]
  },
  {
   "cell_type": "code",
   "execution_count": 7,
   "metadata": {
    "slideshow": {
     "slide_type": "fragment"
    }
   },
   "outputs": [
    {
     "data": {
      "text/plain": [
       "int"
      ]
     },
     "execution_count": 7,
     "metadata": {},
     "output_type": "execute_result"
    }
   ],
   "source": [
    "type(variable_a)"
   ]
  },
  {
   "cell_type": "code",
   "execution_count": 8,
   "metadata": {
    "slideshow": {
     "slide_type": "fragment"
    }
   },
   "outputs": [
    {
     "data": {
      "text/plain": [
       "float"
      ]
     },
     "execution_count": 8,
     "metadata": {},
     "output_type": "execute_result"
    }
   ],
   "source": [
    "type(variable_b)"
   ]
  },
  {
   "cell_type": "markdown",
   "metadata": {
    "slideshow": {
     "slide_type": "notes"
    }
   },
   "source": [
    "`variable_a` and `variable_b` are both numbers, but their types differ! `variable_a` is an `int`, wich is short for *integer*. 1, 10 and -5 are examples of integers. `variable_b` on the other hand is a `float`, wich is short for *floating point number*. 1.1, 3.1415 and -5.004 are examples of floating point numbers. Note how we use a dot as the decimal separator and not a comma! In Python, we do not have to worry when two variables have different numeric types and we can use them together in calculations."
   ]
  },
  {
   "cell_type": "code",
   "execution_count": 9,
   "metadata": {
    "slideshow": {
     "slide_type": "fragment"
    }
   },
   "outputs": [
    {
     "data": {
      "text/plain": [
       "2.1"
      ]
     },
     "execution_count": 9,
     "metadata": {},
     "output_type": "execute_result"
    }
   ],
   "source": [
    "variable_a + variable_b"
   ]
  },
  {
   "cell_type": "markdown",
   "metadata": {
    "slideshow": {
     "slide_type": "slide"
    }
   },
   "source": [
    "#### Strings"
   ]
  },
  {
   "cell_type": "markdown",
   "metadata": {
    "slideshow": {
     "slide_type": "notes"
    }
   },
   "source": [
    "In addition to numbers, we can also store text in variables."
   ]
  },
  {
   "cell_type": "code",
   "execution_count": 10,
   "metadata": {
    "slideshow": {
     "slide_type": "-"
    }
   },
   "outputs": [
    {
     "data": {
      "text/plain": [
       "str"
      ]
     },
     "execution_count": 10,
     "metadata": {},
     "output_type": "execute_result"
    }
   ],
   "source": [
    "variable_c = 'Hello there!'\n",
    "type(variable_c)"
   ]
  },
  {
   "cell_type": "markdown",
   "metadata": {
    "slideshow": {
     "slide_type": "notes"
    }
   },
   "source": [
    "The variable type to store text is `str` or *string*. Strings always start and end with quotation marks to avoid confusion with actual code. You can use both single quotation marks `'` and double quotation marks `\"`. Some examples of strings:"
   ]
  },
  {
   "cell_type": "code",
   "execution_count": 11,
   "metadata": {
    "collapsed": true,
    "slideshow": {
     "slide_type": "fragment"
    }
   },
   "outputs": [],
   "source": [
    "string_1 = \"None shall pass\"\n",
    "string_2 = 'None shall pass'\n",
    "string_3 = \"It's just a flesh wound\""
   ]
  },
  {
   "cell_type": "markdown",
   "metadata": {
    "slideshow": {
     "slide_type": "notes"
    }
   },
   "source": [
    "> Note: you can use single quotation marks in double quoted strings and vice versa.\n",
    "\n",
    "Variable types are important! Different types of variables will behave differently:"
   ]
  },
  {
   "cell_type": "code",
   "execution_count": 12,
   "metadata": {
    "slideshow": {
     "slide_type": "fragment"
    }
   },
   "outputs": [
    {
     "data": {
      "text/plain": [
       "'11'"
      ]
     },
     "execution_count": 12,
     "metadata": {},
     "output_type": "execute_result"
    }
   ],
   "source": [
    "\"1\" + \"1\""
   ]
  },
  {
   "cell_type": "markdown",
   "metadata": {
    "slideshow": {
     "slide_type": "notes"
    }
   },
   "source": [
    "Using an addition operator (`+`) on strings will *concatenate* them: combine the two strings into one. It is thus important that you keep track of the types of your variables, or unexpected things might happen!"
   ]
  },
  {
   "cell_type": "markdown",
   "metadata": {},
   "source": [
    "#### Boolean\n",
    "\n",
    "Boolean is the most simple variable type, it has only two possible values: `True` and `False`."
   ]
  },
  {
   "cell_type": "code",
   "execution_count": 13,
   "metadata": {},
   "outputs": [
    {
     "data": {
      "text/plain": [
       "bool"
      ]
     },
     "execution_count": 13,
     "metadata": {},
     "output_type": "execute_result"
    }
   ],
   "source": [
    "variable_d = True\n",
    "type(variable_d)"
   ]
  },
  {
   "cell_type": "markdown",
   "metadata": {},
   "source": [
    "If you are wondering why this variable could ever be useful: we will later see that booleans play an important role in Python (and any other programming language).\n",
    "\n",
    "`True` and `False` are always capitalized and writting without quotation marks. If we were to use quotes, we would create a string instead!"
   ]
  },
  {
   "cell_type": "code",
   "execution_count": 14,
   "metadata": {},
   "outputs": [
    {
     "data": {
      "text/plain": [
       "str"
      ]
     },
     "execution_count": 14,
     "metadata": {},
     "output_type": "execute_result"
    }
   ],
   "source": [
    "variable_e = \"True\"\n",
    "type(variable_e)"
   ]
  },
  {
   "cell_type": "markdown",
   "metadata": {
    "slideshow": {
     "slide_type": "slide"
    }
   },
   "source": [
    "### Compound variable types\n",
    "#### Lists"
   ]
  },
  {
   "cell_type": "markdown",
   "metadata": {
    "slideshow": {
     "slide_type": "notes"
    }
   },
   "source": [
    "Python knows a number of compound data types, used to group together other values. The most versatile is the `list`, which can be written as a list of comma-separated values (items) between square brackets. Lists might contain items of different types, but usually the items all have the same type."
   ]
  },
  {
   "cell_type": "code",
   "execution_count": 15,
   "metadata": {
    "slideshow": {
     "slide_type": "fragment"
    }
   },
   "outputs": [
    {
     "data": {
      "text/plain": [
       "list"
      ]
     },
     "execution_count": 15,
     "metadata": {},
     "output_type": "execute_result"
    }
   ],
   "source": [
    "list_of_things = [\"a shrubbery\", \"another shrubbery\", \"a herring\"]\n",
    "type(list_of_things)"
   ]
  },
  {
   "cell_type": "markdown",
   "metadata": {
    "slideshow": {
     "slide_type": "notes"
    }
   },
   "source": [
    "We can access a specific element in the list using `listname[index]`. The *index* is a number, starting at 0. So position 2 is actually the third element in the list. Indexes can be used to read or write elements of a list."
   ]
  },
  {
   "cell_type": "code",
   "execution_count": 16,
   "metadata": {
    "slideshow": {
     "slide_type": "fragment"
    }
   },
   "outputs": [
    {
     "data": {
      "text/plain": [
       "'another shrubbery'"
      ]
     },
     "execution_count": 16,
     "metadata": {},
     "output_type": "execute_result"
    }
   ],
   "source": [
    "list_of_things[1]"
   ]
  },
  {
   "cell_type": "code",
   "execution_count": 17,
   "metadata": {
    "slideshow": {
     "slide_type": "fragment"
    }
   },
   "outputs": [
    {
     "data": {
      "text/plain": [
       "['a shrubbery', 'another shrubbery', 'the mightiest tree in the forest']"
      ]
     },
     "execution_count": 17,
     "metadata": {},
     "output_type": "execute_result"
    }
   ],
   "source": [
    "list_of_things[2] = \"the mightiest tree in the forest\"\n",
    "list_of_things"
   ]
  },
  {
   "cell_type": "markdown",
   "metadata": {
    "slideshow": {
     "slide_type": "notes"
    }
   },
   "source": [
    "We can use *slices* to obtain multiple elements in a new list. Slices are formatted as `listname[start:end]`."
   ]
  },
  {
   "cell_type": "code",
   "execution_count": 18,
   "metadata": {
    "slideshow": {
     "slide_type": "fragment"
    }
   },
   "outputs": [
    {
     "data": {
      "text/plain": [
       "[3, 4]"
      ]
     },
     "execution_count": 18,
     "metadata": {},
     "output_type": "execute_result"
    }
   ],
   "source": [
    "my_numbers = [1, 2, 3, 4, 5]\n",
    "my_numbers[2:4]"
   ]
  },
  {
   "cell_type": "markdown",
   "metadata": {
    "slideshow": {
     "slide_type": "notes"
    }
   },
   "source": [
    "> Note: the end is non inclusive! `2:4` thus gives you the third and fourth element in the list.\n",
    "\n",
    "If the end is omited, the slice will continue to the end of the list. "
   ]
  },
  {
   "cell_type": "code",
   "execution_count": 19,
   "metadata": {
    "slideshow": {
     "slide_type": "fragment"
    }
   },
   "outputs": [
    {
     "data": {
      "text/plain": [
       "[4, 5]"
      ]
     },
     "execution_count": 19,
     "metadata": {},
     "output_type": "execute_result"
    }
   ],
   "source": [
    "my_numbers[3:]"
   ]
  },
  {
   "cell_type": "markdown",
   "metadata": {
    "slideshow": {
     "slide_type": "subslide"
    }
   },
   "source": [
    "Slices and indexes also work on strings!"
   ]
  },
  {
   "cell_type": "code",
   "execution_count": 20,
   "metadata": {
    "slideshow": {
     "slide_type": "fragment"
    }
   },
   "outputs": [
    {
     "data": {
      "text/plain": [
       "'grail'"
      ]
     },
     "execution_count": 20,
     "metadata": {},
     "output_type": "execute_result"
    }
   ],
   "source": [
    "my_quest = \"The holy grail\"\n",
    "my_quest[9:]"
   ]
  },
  {
   "cell_type": "markdown",
   "metadata": {
    "slideshow": {
     "slide_type": "slide"
    }
   },
   "source": [
    "#### Dictionaries"
   ]
  },
  {
   "cell_type": "markdown",
   "metadata": {
    "slideshow": {
     "slide_type": "notes"
    }
   },
   "source": [
    "Dictionaries (`dict`) are similar to lists in that they hold multiple elements. But every element is identified by a unique *key* and the order of the elements is not important. The elements of a dictionary are typically referred to as *key-value pairs*. Dictionaries are created using braces (`{` and `}`). "
   ]
  },
  {
   "cell_type": "code",
   "execution_count": 21,
   "metadata": {
    "slideshow": {
     "slide_type": "fragment"
    }
   },
   "outputs": [
    {
     "data": {
      "text/plain": [
       "dict"
      ]
     },
     "execution_count": 21,
     "metadata": {},
     "output_type": "execute_result"
    }
   ],
   "source": [
    "my_friend = {\"name\": \"Jeff\", \"age\": 23}\n",
    "type(my_friend)"
   ]
  },
  {
   "cell_type": "markdown",
   "metadata": {
    "slideshow": {
     "slide_type": "notes"
    }
   },
   "source": [
    "In this example, `name` and `age` are the keys and `Jeff` and `23` the values. Note how the variable type of the values can be different but keys are always strings!\n",
    "\n",
    "Keys can be used in the same way as indexes on lists."
   ]
  },
  {
   "cell_type": "code",
   "execution_count": 22,
   "metadata": {
    "slideshow": {
     "slide_type": "fragment"
    }
   },
   "outputs": [
    {
     "data": {
      "text/plain": [
       "'Jeff'"
      ]
     },
     "execution_count": 22,
     "metadata": {},
     "output_type": "execute_result"
    }
   ],
   "source": [
    "my_friend['name']"
   ]
  },
  {
   "cell_type": "code",
   "execution_count": 23,
   "metadata": {
    "slideshow": {
     "slide_type": "fragment"
    }
   },
   "outputs": [
    {
     "data": {
      "text/plain": [
       "{'name': 'Jeff', 'age': 23, 'hometown': 'Ghent'}"
      ]
     },
     "execution_count": 23,
     "metadata": {},
     "output_type": "execute_result"
    }
   ],
   "source": [
    "my_friend['hometown'] = 'Ghent'\n",
    "my_friend"
   ]
  },
  {
   "cell_type": "markdown",
   "metadata": {
    "slideshow": {
     "slide_type": "notes"
    }
   },
   "source": [
    "So far we have introduced the following variable types: `int`, `float`, `str`, `list` and `dict`. There are a few other types available in Python and you can even define your own, but let's stick to those five for now!\n",
    "\n",
    "If you are interested to learn more about Python's built-in types or want a more formal introduction, you can check out the [Python manual](https://docs.python.org/3/library/stdtypes.html)."
   ]
  },
  {
   "cell_type": "markdown",
   "metadata": {
    "slideshow": {
     "slide_type": "slide"
    }
   },
   "source": [
    "## Functions"
   ]
  },
  {
   "cell_type": "markdown",
   "metadata": {
    "slideshow": {
     "slide_type": "notes"
    }
   },
   "source": [
    "If variables are the ingredients of the Python soup, functions are the instructions of your recipe. **Dice** the carrots, **sauté** the onion and **cook** your broth! \n",
    "\n",
    "A basic function call in Python looks like this: `some_function()`. Most functions have one ore more arguments, that we can pass between the parentheses: `some_function(arg_1, arg_2)`. Some functions will return output that we can store in a variable: `my_variable = some_function(arg_1, arg_2)`.\n",
    "\n",
    "Let's go over some of the functions you will need:"
   ]
  },
  {
   "cell_type": "markdown",
   "metadata": {
    "slideshow": {
     "slide_type": "fragment"
    }
   },
   "source": [
    "### `print()`"
   ]
  },
  {
   "cell_type": "markdown",
   "metadata": {
    "slideshow": {
     "slide_type": "notes"
    }
   },
   "source": [
    "Probably the most frequently used function by beginning programmers is `print()`. It has nothing to do with paper and printers but displays text as output on the screen."
   ]
  },
  {
   "cell_type": "code",
   "execution_count": 24,
   "metadata": {
    "slideshow": {
     "slide_type": "-"
    }
   },
   "outputs": [
    {
     "name": "stdout",
     "output_type": "stream",
     "text": [
      "Hello world!\n"
     ]
    }
   ],
   "source": [
    "print(\"Hello world!\")"
   ]
  },
  {
   "cell_type": "markdown",
   "metadata": {
    "slideshow": {
     "slide_type": "notes"
    }
   },
   "source": [
    "`print()` accepts any variable type as argument. If more than one argument is given, they will be glued together by spaces. This behaviour comes in handy when you want to display a sentence containing a variable:"
   ]
  },
  {
   "cell_type": "code",
   "execution_count": 25,
   "metadata": {
    "slideshow": {
     "slide_type": "fragment"
    }
   },
   "outputs": [
    {
     "name": "stdout",
     "output_type": "stream",
     "text": [
      "It takes 2 swallows to carry a coconut\n"
     ]
    }
   ],
   "source": [
    "nr_of_swallows = 2\n",
    "print(\"It takes\", nr_of_swallows, \"swallows to carry a coconut\")"
   ]
  },
  {
   "cell_type": "markdown",
   "metadata": {
    "slideshow": {
     "slide_type": "notes"
    }
   },
   "source": [
    "> Note: You may have noticed that some of the code in the previous sections also had output without using the `print()` function. This is different from printing however! Jupyter notebooks by default evaluate the last line of the code block and display the results. "
   ]
  },
  {
   "cell_type": "markdown",
   "metadata": {
    "slideshow": {
     "slide_type": "slide"
    }
   },
   "source": [
    "### `int(), float(), str(), ...`"
   ]
  },
  {
   "cell_type": "markdown",
   "metadata": {
    "slideshow": {
     "slide_type": "-"
    }
   },
   "source": [
    "Every variable type has its own constructor: a function that creates a variable of that type from other types of variables. Constructors are useful for converting from one variable type to another:"
   ]
  },
  {
   "cell_type": "code",
   "execution_count": 26,
   "metadata": {
    "slideshow": {
     "slide_type": "-"
    }
   },
   "outputs": [
    {
     "name": "stdout",
     "output_type": "stream",
     "text": [
      "123123\n",
      "246\n"
     ]
    }
   ],
   "source": [
    "var_a = \"123\"\n",
    "print(var_a + var_a)\n",
    "\n",
    "var_b = int(var_a)\n",
    "print(var_b + var_b)"
   ]
  },
  {
   "cell_type": "markdown",
   "metadata": {
    "slideshow": {
     "slide_type": "slide"
    }
   },
   "source": [
    "### `input()`"
   ]
  },
  {
   "cell_type": "markdown",
   "metadata": {
    "slideshow": {
     "slide_type": "notes"
    }
   },
   "source": [
    "Another useful function is `input()`. It stops the program and waits for input. Depending on the way the Python script is executed, this input can come from the user or from a file. In Jupyter notebooks, a small box appears that users can type in. `input()` has an optional argument, a string that is displayed before the program waits for input. This is useful for indicating to the user what he/she is supposed to type."
   ]
  },
  {
   "cell_type": "code",
   "execution_count": 27,
   "metadata": {
    "slideshow": {
     "slide_type": "-"
    }
   },
   "outputs": [
    {
     "name": "stdout",
     "output_type": "stream",
     "text": [
      "Welcome Arthur !\n"
     ]
    }
   ],
   "source": [
    "some_name = input(\"Hello! What's your name?\")\n",
    "\n",
    "print(\"Welcome\", some_name, \"!\")"
   ]
  },
  {
   "cell_type": "markdown",
   "metadata": {
    "slideshow": {
     "slide_type": "slide"
    }
   },
   "source": [
    "### Reading function documentation"
   ]
  },
  {
   "cell_type": "markdown",
   "metadata": {
    "slideshow": {
     "slide_type": "notes"
    }
   },
   "source": [
    "There's an incredible number of functions available in Python. After a while you will know some of them by heart, but it is impossible to memorize them all. In fact, programming is often more about reading documentation and being able to find the stuff you need quickly than it is about typing code from your head. Learning to program in a new language is thus also learning where to find documentation on the language and how to read it. \n",
    "\n",
    "Let's have a look at the [documentation](https://docs.python.org/3/library/functions.html#round) for the function `round()`. The first lines of the documentation look something like:"
   ]
  },
  {
   "cell_type": "markdown",
   "metadata": {
    "slideshow": {
     "slide_type": "-"
    }
   },
   "source": [
    "```\n",
    "round(number[, ndigits])\n",
    "    Return number rounded to ndigits precision after the decimal point. If \n",
    "    ndigits is omitted or is None, it returns the nearest integer to its input\n",
    "```"
   ]
  },
  {
   "cell_type": "markdown",
   "metadata": {
    "slideshow": {
     "slide_type": "notes"
    }
   },
   "source": [
    "The first line defines the function and its parameters. We can read it as follows: `round()` is a function with two parameters, one required parameter `number` and one optional parameter `ndigits`. The square brackets indicate an optional part, in this case the `ndigits` parameter. The rest of the documentation explains what the meaning of the parameters is and what happens in the presence/absence of the `ndigits` parameter."
   ]
  },
  {
   "cell_type": "code",
   "execution_count": 28,
   "metadata": {
    "slideshow": {
     "slide_type": "fragment"
    }
   },
   "outputs": [
    {
     "data": {
      "text/plain": [
       "0.3333"
      ]
     },
     "execution_count": 28,
     "metadata": {},
     "output_type": "execute_result"
    }
   ],
   "source": [
    "my_fraction = 1/3\n",
    "round(my_fraction, 4)"
   ]
  },
  {
   "cell_type": "code",
   "execution_count": 29,
   "metadata": {
    "slideshow": {
     "slide_type": "fragment"
    }
   },
   "outputs": [
    {
     "data": {
      "text/plain": [
       "0"
      ]
     },
     "execution_count": 29,
     "metadata": {},
     "output_type": "execute_result"
    }
   ],
   "source": [
    "round(my_fraction)"
   ]
  },
  {
   "cell_type": "markdown",
   "metadata": {
    "slideshow": {
     "slide_type": "notes"
    }
   },
   "source": [
    "Sometimes, functions have parameters with a *default* value. For instance the [`print()` function](https://docs.python.org/3/library/functions.html#print):"
   ]
  },
  {
   "cell_type": "markdown",
   "metadata": {
    "slideshow": {
     "slide_type": "subslide"
    }
   },
   "source": [
    "```\n",
    "print(*objects, sep=’ ‘, end=’\\n’, file=sys.stdout, flush=False)\n",
    "    Print objects to the text stream file, separated by sep and followed by \n",
    "    end. sep, end, file and flush, if present, must be given as keyword \n",
    "    arguments.\n",
    "```"
   ]
  },
  {
   "cell_type": "markdown",
   "metadata": {
    "slideshow": {
     "slide_type": "notes"
    }
   },
   "source": [
    "The first argument `*objects` is required and has a little star next to it. This star indicates that more than one `objects` argument can be supplied. The second argument `sep` and all the subsequent arguments are optional, but they have a default value. For `sep`, the default value is `' '` (a space). This means that if you provide more than one `objects` argument to `print()` by default they will be separated by a space in the output. \n",
    "\n",
    "In the documentation, we can also read that these arguments \"must be given as keyword arguments\". We have to specify the name of the parameter when we want to set it. In the `round()` function, the order of the arguments idicates what parameter you set: the first parameter is always `number` and the second `ndigits`. Since we can supply any number of `objects` arguments to `print()`, we have to make it clear that an argument is for instance the `sep` argument instead. For instance:"
   ]
  },
  {
   "cell_type": "code",
   "execution_count": 30,
   "metadata": {
    "slideshow": {
     "slide_type": "fragment"
    }
   },
   "outputs": [
    {
     "name": "stdout",
     "output_type": "stream",
     "text": [
      "Hello<--->world\n"
     ]
    }
   ],
   "source": [
    "print(\"Hello\", \"world\", sep = \"<--->\")"
   ]
  },
  {
   "cell_type": "markdown",
   "metadata": {
    "slideshow": {
     "slide_type": "slide"
    }
   },
   "source": [
    "## Methods"
   ]
  },
  {
   "cell_type": "markdown",
   "metadata": {
    "slideshow": {
     "slide_type": "notes"
    }
   },
   "source": [
    "Methods are a special kind of functions that belong to specific variable types. They are part of a programming paradigm called *object oriented programming* that provides a way to structure code in large programs or libraries. *Object oriented programming* is beyond the scope of this course so I will not go into detail. But think of it in this way: if a bunch of functions only work on a specific variable type, it would be convenient to group these functions together in one way or another. For instance, the `str` variable type has a group of functions we refer to as *string methods*. Here's an example of one of them:"
   ]
  },
  {
   "cell_type": "code",
   "execution_count": 31,
   "metadata": {
    "slideshow": {
     "slide_type": "-"
    }
   },
   "outputs": [
    {
     "data": {
      "text/plain": [
       "'HAHAHAHA!'"
      ]
     },
     "execution_count": 31,
     "metadata": {},
     "output_type": "execute_result"
    }
   ],
   "source": [
    "my_string = \"hahahaha!\"\n",
    "my_string.upper()"
   ]
  },
  {
   "cell_type": "markdown",
   "metadata": {
    "slideshow": {
     "slide_type": "notes"
    }
   },
   "source": [
    "The `str.upper()` method returns an uppercase version of the string. It would not make sense to have an `upper()` function since we can only make an uppercase of a string. Therefore, `upper()` is a method of the `str` variable type class. As you would have guessed, there's also a `str.lower()` method. But many more methods are available, all available string methods can be found in the [Python documentation](https://docs.python.org/3/library/stdtypes.html#string-methods). \n",
    "\n",
    "Note how using a method differs from using a function: `variable_name` dot `method_name()`."
   ]
  },
  {
   "cell_type": "markdown",
   "metadata": {
    "slideshow": {
     "slide_type": "slide"
    }
   },
   "source": [
    "## Tests"
   ]
  },
  {
   "cell_type": "markdown",
   "metadata": {
    "slideshow": {
     "slide_type": "notes"
    }
   },
   "source": [
    "In the previous section, we have learned how to create variables and set their values. In our examples, we always knew the value of our variables. In practice however, this is often not the case!\n",
    "\n",
    "Imagine you are programming a game. You might have a variable called `highscore` to keep track of the highest score of the player. As programmer, you have no idea what the value might be and yet you have to keep track of it. For instance: when the player beats his/her highscore, balloons have to appear on the screen and their friends have be publically shamed on social media.\n",
    "\n",
    "Let's start by creating a variable:"
   ]
  },
  {
   "cell_type": "code",
   "execution_count": 32,
   "metadata": {
    "collapsed": true,
    "slideshow": {
     "slide_type": "-"
    }
   },
   "outputs": [],
   "source": [
    "bird = \"swallow\" "
   ]
  },
  {
   "cell_type": "markdown",
   "metadata": {
    "slideshow": {
     "slide_type": "notes"
    }
   },
   "source": [
    "With tests, we can check if the value of our variables meets certain criteria. For instance:"
   ]
  },
  {
   "cell_type": "code",
   "execution_count": 33,
   "metadata": {
    "slideshow": {
     "slide_type": "-"
    }
   },
   "outputs": [
    {
     "data": {
      "text/plain": [
       "False"
      ]
     },
     "execution_count": 33,
     "metadata": {},
     "output_type": "execute_result"
    }
   ],
   "source": [
    "bird == \"duck\""
   ]
  },
  {
   "cell_type": "code",
   "execution_count": 34,
   "metadata": {
    "slideshow": {
     "slide_type": "fragment"
    }
   },
   "outputs": [
    {
     "data": {
      "text/plain": [
       "True"
      ]
     },
     "execution_count": 34,
     "metadata": {},
     "output_type": "execute_result"
    }
   ],
   "source": [
    "bird == \"swallow\""
   ]
  },
  {
   "cell_type": "markdown",
   "metadata": {
    "slideshow": {
     "slide_type": "notes"
    }
   },
   "source": [
    "Here, we have used the `==` operator to test whether the value of the `bird` variable equals a specific string. `True` and `False` are Pythons way of saying yes and no and tests always return either `True` or `False`.\n",
    "\n",
    "'`==`' is an example of a *relational operator*, it tests how two entities relate. In this example we've compared two strings but the same operators work on numerical and other types. Several more relational operators are available in Python:"
   ]
  },
  {
   "cell_type": "markdown",
   "metadata": {
    "slideshow": {
     "slide_type": "fragment"
    }
   },
   "source": [
    "| Symbol | Test |\n",
    "|----|---|\n",
    "| == | equal to |\n",
    "| !=  | not equal to |\n",
    "| < | less than |\n",
    "| > | greater than |\n",
    "| <=  | less than or equal to |\n",
    "| >=  | greater than or equal to |"
   ]
  },
  {
   "cell_type": "markdown",
   "metadata": {
    "slideshow": {
     "slide_type": "slide"
    }
   },
   "source": [
    "### Tests for compound variable types"
   ]
  },
  {
   "cell_type": "markdown",
   "metadata": {
    "slideshow": {
     "slide_type": "notes"
    }
   },
   "source": [
    "For lists and dictionaries, Python provides a very useful `in` operator that tests whether a specific element is present in the list or dictionary."
   ]
  },
  {
   "cell_type": "code",
   "execution_count": 35,
   "metadata": {
    "nbpresent": {
     "id": "26c5a11b-bfe7-4186-b3b0-8a828cce57c4"
    },
    "slideshow": {
     "slide_type": "-"
    }
   },
   "outputs": [
    {
     "data": {
      "text/plain": [
       "True"
      ]
     },
     "execution_count": 35,
     "metadata": {},
     "output_type": "execute_result"
    }
   ],
   "source": [
    "my_list = [\"one\", \"two\", \"three\"]\n",
    "\"two\" in my_list"
   ]
  },
  {
   "cell_type": "markdown",
   "metadata": {
    "slideshow": {
     "slide_type": "notes"
    }
   },
   "source": [
    "The opposite of `in` is as simple as this:"
   ]
  },
  {
   "cell_type": "code",
   "execution_count": 36,
   "metadata": {
    "slideshow": {
     "slide_type": "fragment"
    }
   },
   "outputs": [
    {
     "data": {
      "text/plain": [
       "True"
      ]
     },
     "execution_count": 36,
     "metadata": {},
     "output_type": "execute_result"
    }
   ],
   "source": [
    "\"four\" not in my_list"
   ]
  },
  {
   "cell_type": "markdown",
   "metadata": {
    "slideshow": {
     "slide_type": "notes"
    }
   },
   "source": [
    "We've talked about code readability earlier. This is one of thoses examples where Python helps you to write beautiful code!\n",
    "\n",
    "The `in` operator also works on dictionaries, but it only tests whether a *key* is present! In this case, `'pj'` is a key in the `my_ages` dictionary, hence the test returns `True`."
   ]
  },
  {
   "cell_type": "code",
   "execution_count": 37,
   "metadata": {
    "nbpresent": {
     "id": "51c3f3d3-1a87-41da-b503-5c5411f98e68"
    },
    "slideshow": {
     "slide_type": "subslide"
    }
   },
   "outputs": [
    {
     "data": {
      "text/plain": [
       "True"
      ]
     },
     "execution_count": 37,
     "metadata": {},
     "output_type": "execute_result"
    }
   ],
   "source": [
    "my_ages = {\"pj\": 30, \"niels\": 32}\n",
    "'pj' in my_ages"
   ]
  },
  {
   "cell_type": "code",
   "execution_count": 38,
   "metadata": {
    "slideshow": {
     "slide_type": "fragment"
    }
   },
   "outputs": [
    {
     "data": {
      "text/plain": [
       "False"
      ]
     },
     "execution_count": 38,
     "metadata": {},
     "output_type": "execute_result"
    }
   ],
   "source": [
    "30 in my_ages"
   ]
  },
  {
   "cell_type": "markdown",
   "metadata": {
    "slideshow": {
     "slide_type": "slide"
    }
   },
   "source": [
    "### Combining tests with and/or"
   ]
  },
  {
   "cell_type": "markdown",
   "metadata": {
    "slideshow": {
     "slide_type": "notes"
    }
   },
   "source": [
    "You can combine two tests by using *bitwise operators*. The most common bitwise operators are `and` and `or`. The logical *and* will evaluate as `True` when both tests evaluate as `True`, while the logical *or*  will evaluate if one of the tests evaluates as `True`. \n",
    "\n",
    "Both tests (or expressions) we are combining have to be set apart by parentheses! "
   ]
  },
  {
   "cell_type": "code",
   "execution_count": 39,
   "metadata": {
    "collapsed": true,
    "slideshow": {
     "slide_type": "-"
    }
   },
   "outputs": [],
   "source": [
    "day = 'friday'\n",
    "dinner = 'steak'"
   ]
  },
  {
   "cell_type": "code",
   "execution_count": 40,
   "metadata": {
    "slideshow": {
     "slide_type": "-"
    }
   },
   "outputs": [
    {
     "data": {
      "text/plain": [
       "True"
      ]
     },
     "execution_count": 40,
     "metadata": {},
     "output_type": "execute_result"
    }
   ],
   "source": [
    "(day == 'friday') & (dinner == 'steak')"
   ]
  },
  {
   "cell_type": "markdown",
   "metadata": {
    "slideshow": {
     "slide_type": "notes"
    }
   },
   "source": [
    "Must be my lucky day!\n",
    "\n",
    "These are the most common bitwise operators available:"
   ]
  },
  {
   "cell_type": "markdown",
   "metadata": {
    "slideshow": {
     "slide_type": "fragment"
    }
   },
   "source": [
    "| Symbol | Task Performed |\n",
    "|----|---|\n",
    "| `and`  | Both are `True` |\n",
    "| `or` | One or the other is `True` |\n",
    "| `not` | Inverts the result: `True` becomes `False` and vice versa |"
   ]
  },
  {
   "cell_type": "markdown",
   "metadata": {},
   "source": [
    "> Note: `and` and `or` can also be writting as `&` and `|` respectively. Even though theres a small difference, you will often find this notation in example code online.  "
   ]
  },
  {
   "cell_type": "markdown",
   "metadata": {
    "nbpresent": {
     "id": "a623d490-d420-41db-baec-64e2e9c5f435"
    },
    "slideshow": {
     "slide_type": "slide"
    }
   },
   "source": [
    "## Control flow statements"
   ]
  },
  {
   "cell_type": "markdown",
   "metadata": {
    "slideshow": {
     "slide_type": "notes"
    }
   },
   "source": [
    "Now there's a fancy word! The *flow of control* in a program is the order in which individual statements are executed. Normally, every line in a Python program is excecuted one by one, from top to bottom. But with *control flow statements*, we can alter this order and skip a bunch of lines under certain conditions or execute some lines more than once. We can do this based on the tests we've seen in the previous section."
   ]
  },
  {
   "cell_type": "markdown",
   "metadata": {
    "slideshow": {
     "slide_type": "fragment"
    }
   },
   "source": [
    "### If, else & elif"
   ]
  },
  {
   "cell_type": "markdown",
   "metadata": {
    "slideshow": {
     "slide_type": "notes"
    }
   },
   "source": [
    "The most basic control flow statement is `if`. We can use it to start a block of code that will only be executed under certain conditions. For instance:"
   ]
  },
  {
   "cell_type": "code",
   "execution_count": 41,
   "metadata": {
    "slideshow": {
     "slide_type": "-"
    }
   },
   "outputs": [
    {
     "name": "stdout",
     "output_type": "stream",
     "text": [
      "He is the messiah!\n"
     ]
    }
   ],
   "source": [
    "user_name = input(\"Hello! What's your name?\")\n",
    "\n",
    "if user_name == \"Brian\":\n",
    "    print(\"He is the messiah!\")"
   ]
  },
  {
   "cell_type": "markdown",
   "metadata": {
    "slideshow": {
     "slide_type": "notes"
    }
   },
   "source": [
    "Let's review this script line by line. We've already met the `input()` function. We use it here to ask for the user's name and store it in a variable. The test `user_name == \"Brian\"` tests whether this variable is equal to a specific string. If this is the case, \"He is the messiah!\" is displayed on the screen! `if` statements are always written in the following form: \"`if` *expression*:\". Most of the time, *expression* is a test, but it can be anything that evaluates as `True` or `False`. After the colon (`:`) follows a *block* of code that will only be executed if the expression evaluates as `True`. \n",
    "\n",
    "If you look carefully at the code above, you'll notice that the `print()` statement is indented to the right by spaces. Indentation is the way to tell Python what code belongs with the `if` statement. The colon (:) marks the start of the *indentation block*, all code in the block will be run only if the if statement is `True`."
   ]
  },
  {
   "cell_type": "code",
   "execution_count": 42,
   "metadata": {
    "slideshow": {
     "slide_type": "subslide"
    }
   },
   "outputs": [
    {
     "name": "stdout",
     "output_type": "stream",
     "text": [
      "He is the messiah!\n",
      "All hail Brian!\n",
      "Welcome Brian\n"
     ]
    }
   ],
   "source": [
    "if user_name == \"Brian\":\n",
    "    print(\"He is the messiah!\")\n",
    "    print(\"All hail Brian!\")\n",
    "    \n",
    "print(\"Welcome \"+user_name)"
   ]
  },
  {
   "cell_type": "markdown",
   "metadata": {
    "slideshow": {
     "slide_type": "notes"
    }
   },
   "source": [
    "An indentation block can consist of multiple lines of code. Every line has to be preceeded by the same number of spaces. As soon the Python interpreter ecounters a line without indentation, the block ends. In the previous example, the \"Welcome *user_name*\" message will be displayed for all users while the other two messages only if the user's name is Brian.\n",
    "\n",
    "Most programming languages use a different syntax than indentation to delineate blocks. Curly brackets, for instance, are used in many languages. Here's an example of what the previous code would look like in R, another popular language in science and statistics. Note that the four spaces are still there, but now they're optional. Programmers use the spaces to structure their code, you can clearly see where the blocks begin and end when they're indented. So basically Python forces programmers to always structure their code."
   ]
  },
  {
   "cell_type": "markdown",
   "metadata": {
    "slideshow": {
     "slide_type": "fragment"
    }
   },
   "source": [
    "```R\n",
    "if (user_name == \"Brian\"){\n",
    "    print(\"He is the messiah!\")\n",
    "    print(\"All hail Brian!\")\n",
    "}\n",
    "print(paste0(\"Welcome \",user_name))\n",
    "```"
   ]
  },
  {
   "cell_type": "markdown",
   "metadata": {
    "slideshow": {
     "slide_type": "notes"
    }
   },
   "source": [
    "The `if` statement can be extended with an `else` statement with its own block. If the expression evaluates as `True`, the block after the `if` statement is executed, but if it evaluates as `False`, the block after the `else` statement is executed."
   ]
  },
  {
   "cell_type": "code",
   "execution_count": 43,
   "metadata": {
    "slideshow": {
     "slide_type": "subslide"
    }
   },
   "outputs": [
    {
     "name": "stdout",
     "output_type": "stream",
     "text": [
      "He is the messiah!\n"
     ]
    }
   ],
   "source": [
    "if user_name == \"Brian\":\n",
    "    print(\"He is the messiah!\")\n",
    "else:\n",
    "    print(\"It is but a simple peasant...\")"
   ]
  },
  {
   "cell_type": "markdown",
   "metadata": {
    "slideshow": {
     "slide_type": "notes"
    }
   },
   "source": [
    "The `elif` statement is available when you need to test for more than two options. `elif` is short for \"else if\" and follows an `if` statement just as `else`. For instance:"
   ]
  },
  {
   "cell_type": "code",
   "execution_count": 44,
   "metadata": {
    "slideshow": {
     "slide_type": "subslide"
    }
   },
   "outputs": [
    {
     "name": "stdout",
     "output_type": "stream",
     "text": [
      "He is the messiah!\n"
     ]
    }
   ],
   "source": [
    "if user_name == \"Brian\":\n",
    "    print(\"He is the messiah!\")\n",
    "elif user_name == \"Biggus\":\n",
    "    print(\"What's so funny about him?\")\n",
    "else:\n",
    "    print(\"You are but a simple peasant\")"
   ]
  },
  {
   "cell_type": "markdown",
   "metadata": {
    "slideshow": {
     "slide_type": "slide"
    }
   },
   "source": [
    "### While"
   ]
  },
  {
   "cell_type": "markdown",
   "metadata": {
    "slideshow": {
     "slide_type": "notes"
    }
   },
   "source": [
    "A `while` statement is very similar to `if` but the code in the indentation block will be executed an indefinite number of times, as long as the expression is `True`. While thus creates a loop."
   ]
  },
  {
   "cell_type": "code",
   "execution_count": 45,
   "metadata": {
    "slideshow": {
     "slide_type": "-"
    }
   },
   "outputs": [
    {
     "name": "stdout",
     "output_type": "stream",
     "text": [
      "10\n",
      "9\n",
      "8\n",
      "7\n",
      "6\n",
      "we're done!\n"
     ]
    }
   ],
   "source": [
    "a_nr = 10\n",
    "while a_nr > 5:\n",
    "    print(a_nr)\n",
    "    a_nr = a_nr-1\n",
    "    \n",
    "print(\"we're done!\")"
   ]
  },
  {
   "cell_type": "markdown",
   "metadata": {
    "slideshow": {
     "slide_type": "notes"
    }
   },
   "source": [
    "An error beginning programmers (but experienced ones too) sometimes make is creating infinite loops.\n",
    "\n",
    "Say we were programming the `while` loop from the previous example, but forgot the part were `a_nr` is changed:\n",
    "\n",
    "```Python\n",
    "a_nr = 10\n",
    "while a_nr > 5:\n",
    "    print(a_nr)\n",
    "    \n",
    "print(\"we're done!\")\n",
    "```\n",
    "\n",
    "Now, the condition will be `True` every time the loop is repeated! The program never prints the final statement and keeps on running until it's killed by the user or the operating system. "
   ]
  },
  {
   "cell_type": "markdown",
   "metadata": {
    "slideshow": {
     "slide_type": "slide"
    }
   },
   "source": [
    "### For"
   ]
  },
  {
   "cell_type": "markdown",
   "metadata": {
    "slideshow": {
     "slide_type": "notes"
    }
   },
   "source": [
    "The `for` statement also starts a loop but now, the code in the block will be executed a *specific* number of times."
   ]
  },
  {
   "cell_type": "code",
   "execution_count": 46,
   "metadata": {
    "slideshow": {
     "slide_type": "-"
    }
   },
   "outputs": [
    {
     "name": "stdout",
     "output_type": "stream",
     "text": [
      "And a one\n",
      "And a two\n",
      "And a three\n",
      "And a four\n"
     ]
    }
   ],
   "source": [
    "my_list = ['one', 'two', 'three', 'four']\n",
    "\n",
    "for element in my_list:\n",
    "    print(\"And a\", element)"
   ]
  },
  {
   "cell_type": "markdown",
   "metadata": {
    "slideshow": {
     "slide_type": "notes"
    }
   },
   "source": [
    "If you are confused by the previous example, try to read it as follows: \"for every element in my list, ...\". \n",
    "\n",
    "The basic syntax for the for statement is `for` *variable_name* in *iterable*. An iterable is a variable type that holds or returns multiple elements. `list`, `dict` and `str` are examples of iterables. The loop runs once for every element in the iterable and the value of each element will be assigned to variable_name. \n",
    "\n",
    "If you do need to iterate over a sequence of numbers or want the loop to execute a specific number of times, the built-in function range() comes in handy. It generates arithmetic progressions:"
   ]
  },
  {
   "cell_type": "code",
   "execution_count": 47,
   "metadata": {
    "slideshow": {
     "slide_type": "fragment"
    }
   },
   "outputs": [
    {
     "name": "stdout",
     "output_type": "stream",
     "text": [
      "0\n",
      "1\n",
      "2\n",
      "3\n",
      "4\n"
     ]
    }
   ],
   "source": [
    "for i in range(5):\n",
    "    print(i)"
   ]
  },
  {
   "cell_type": "markdown",
   "metadata": {
    "slideshow": {
     "slide_type": "subslide"
    }
   },
   "source": [
    "#### Break"
   ]
  },
  {
   "cell_type": "markdown",
   "metadata": {
    "slideshow": {
     "slide_type": "notes"
    }
   },
   "source": [
    "Sometimes, we need to end a `for` loop before all elements in the iterable have been assessed. This is where the `break` statement comes in. It breaks the loop and continues after the block. In the following example we loop over every element in a list until we find what we are looking for: the holy grail!"
   ]
  },
  {
   "cell_type": "code",
   "execution_count": 48,
   "metadata": {
    "slideshow": {
     "slide_type": "-"
    }
   },
   "outputs": [
    {
     "name": "stdout",
     "output_type": "stream",
     "text": [
      "Now checking duck\n",
      "Now checking knight\n",
      "Now checking the holy grail\n",
      "We have found the holy grail!!!\n",
      "Our quest has ended\n"
     ]
    }
   ],
   "source": [
    "my_list = [\"duck\", \"knight\", \"the holy grail\", \"rabbit\", \"camelot\"]\n",
    "\n",
    "for something in my_list:\n",
    "    print(\"Now checking\", something)\n",
    "    if something == \"the holy grail\":\n",
    "        print(\"We have found the holy grail!!!\")\n",
    "        break\n",
    "print(\"Our quest has ended\")"
   ]
  },
  {
   "cell_type": "markdown",
   "metadata": {
    "slideshow": {
     "slide_type": "slide"
    }
   },
   "source": [
    "## Errors"
   ]
  },
  {
   "cell_type": "markdown",
   "metadata": {
    "slideshow": {
     "slide_type": "notes"
    }
   },
   "source": [
    "Don't you just hate error messages? Unfortunately you will probably see them often when you are learning a new programming language. Don't feel judged, exprerienced programmers get them too. It's so easy to make a typo of forget something. Although errors look scary, they contain a lot of helpful information so it's crucial we know how to interpret them. Let's raise an error by using a variable that doesn't exist yet:"
   ]
  },
  {
   "cell_type": "code",
   "execution_count": 49,
   "metadata": {
    "slideshow": {
     "slide_type": "-"
    }
   },
   "outputs": [
    {
     "ename": "NameError",
     "evalue": "name 'some_var' is not defined",
     "output_type": "error",
     "traceback": [
      "\u001b[0;31m---------------------------------------------------------------------------\u001b[0m",
      "\u001b[0;31mNameError\u001b[0m                                 Traceback (most recent call last)",
      "\u001b[0;32m<ipython-input-49-9c21af92efc9>\u001b[0m in \u001b[0;36m<module>\u001b[0;34m()\u001b[0m\n\u001b[0;32m----> 1\u001b[0;31m \u001b[0mprint\u001b[0m\u001b[0;34m(\u001b[0m\u001b[0msome_var\u001b[0m\u001b[0;34m)\u001b[0m\u001b[0;34m\u001b[0m\u001b[0m\n\u001b[0m",
      "\u001b[0;31mNameError\u001b[0m: name 'some_var' is not defined"
     ]
    }
   ],
   "source": [
    "print(some_var)"
   ]
  },
  {
   "cell_type": "markdown",
   "metadata": {
    "slideshow": {
     "slide_type": "notes"
    }
   },
   "source": [
    "There are many different kinds of mistakes a programmer can make and hence there are many different kinds of errors. The first thing you'll see when you get an error is the type of error. In this case, we've encoutered a `NameError`. If we check the Python manual on errors, we find this for [`NameError`s](https://docs.python.org/3/library/exceptions.html#NameError):\n",
    "\n",
    "> Raised when a local or global name is not found. This applies only to unqualified names. The associated value is an error message that includes the name that could not be found.\n",
    "\n",
    "Indeed, the message on the final line of the error clearly states what *name* it could not find: `some_var`. The line above this message (the final line of the Traceback) shows you where in your program the error was raised. This program only has a single line, but when you start to write larger programs, this indication can be very helpful."
   ]
  },
  {
   "cell_type": "markdown",
   "metadata": {
    "slideshow": {
     "slide_type": "slide"
    }
   },
   "source": [
    "## Comments"
   ]
  },
  {
   "cell_type": "markdown",
   "metadata": {
    "slideshow": {
     "slide_type": "notes"
    }
   },
   "source": [
    "Comments are useful for annotating code. If you write readable code, the code often speaks for itself and doesn't require any additional explanation. But sometimes it helps if you write down a few words explaining what it is you are trying to do. This comes in handy when you have to use code you have written some time ago or share your code with somebody else. In Python, everything that starts with a pound (`#`) is a comment and will be ignored by the Python interpreter."
   ]
  },
  {
   "cell_type": "code",
   "execution_count": 50,
   "metadata": {
    "slideshow": {
     "slide_type": "-"
    }
   },
   "outputs": [
    {
     "name": "stdout",
     "output_type": "stream",
     "text": [
      "I'm not a comment\n",
      "There's a # in this string\n"
     ]
    }
   ],
   "source": [
    "# Hello, this is a comment\n",
    "\n",
    "# Even if a comment contains code, it will be ignored:\n",
    "# print(\"Something\")\n",
    "\n",
    "# Comments can start at the beginning of a line or after a statement\n",
    "print(\"I'm not a comment\") # I am!\n",
    "\n",
    "# Pound signs inside string are not considered a comment\n",
    "print(\"There's a # in this string\")"
   ]
  },
  {
   "cell_type": "markdown",
   "metadata": {
    "slideshow": {
     "slide_type": "notes"
    }
   },
   "source": [
    "As always, syntax highlighting is there to help. Comments are clearly indicated by a different shade. Here's a personal comment for you:"
   ]
  },
  {
   "cell_type": "code",
   "execution_count": 51,
   "metadata": {
    "collapsed": true,
    "slideshow": {
     "slide_type": "notes"
    }
   },
   "outputs": [],
   "source": [
    "# You are almost at the end of the chapter. You are doing great!"
   ]
  },
  {
   "cell_type": "markdown",
   "metadata": {
    "slideshow": {
     "slide_type": "slide"
    }
   },
   "source": [
    "## Packages and modules"
   ]
  },
  {
   "cell_type": "markdown",
   "metadata": {
    "slideshow": {
     "slide_type": "notes"
    }
   },
   "source": [
    "There's only so much you can do with the built-in functions and variable types in Python. Luckily, there are pleny of packages and modules to extend the functionality of Python. Some of those will come with your Python installation, but many more are contributed by programmers in the Python community and have to be installed separately before you can use them. \n",
    "\n",
    "For instance, the `sys` module has a variable that stores the version of Python we are currently using. But if we try to use it without actually loading the module, we get an error:"
   ]
  },
  {
   "cell_type": "code",
   "execution_count": 52,
   "metadata": {
    "slideshow": {
     "slide_type": "-"
    }
   },
   "outputs": [
    {
     "ename": "NameError",
     "evalue": "name 'sys' is not defined",
     "output_type": "error",
     "traceback": [
      "\u001b[0;31m---------------------------------------------------------------------------\u001b[0m",
      "\u001b[0;31mNameError\u001b[0m                                 Traceback (most recent call last)",
      "\u001b[0;32m<ipython-input-52-c4f95efce128>\u001b[0m in \u001b[0;36m<module>\u001b[0;34m()\u001b[0m\n\u001b[0;32m----> 1\u001b[0;31m \u001b[0mprint\u001b[0m\u001b[0;34m(\u001b[0m\u001b[0msys\u001b[0m\u001b[0;34m.\u001b[0m\u001b[0mversion\u001b[0m\u001b[0;34m)\u001b[0m\u001b[0;34m\u001b[0m\u001b[0m\n\u001b[0m",
      "\u001b[0;31mNameError\u001b[0m: name 'sys' is not defined"
     ]
    }
   ],
   "source": [
    "print(sys.version)"
   ]
  },
  {
   "cell_type": "markdown",
   "metadata": {
    "slideshow": {
     "slide_type": "notes"
    }
   },
   "source": [
    "If we load the module first with the `import` statement the code works just fine:"
   ]
  },
  {
   "cell_type": "code",
   "execution_count": 53,
   "metadata": {
    "slideshow": {
     "slide_type": "fragment"
    }
   },
   "outputs": [
    {
     "name": "stdout",
     "output_type": "stream",
     "text": [
      "3.6.6 |Anaconda custom (64-bit)| (default, Jun 28 2018, 11:07:29) \n",
      "[GCC 4.2.1 Compatible Clang 4.0.1 (tags/RELEASE_401/final)]\n"
     ]
    }
   ],
   "source": [
    "import sys\n",
    "print(sys.version)"
   ]
  },
  {
   "cell_type": "markdown",
   "metadata": {
    "slideshow": {
     "slide_type": "notes"
    }
   },
   "source": [
    "Did you notice the dot? Just like we access methods of a variable with a dot, we can access variables and functions in a module. The logic is similar: we are grouping stuff together to keep everything nice and tidy."
   ]
  },
  {
   "cell_type": "markdown",
   "metadata": {
    "slideshow": {
     "slide_type": "subslide"
    }
   },
   "source": [
    "Modules can be grouped into packages, for instance:"
   ]
  },
  {
   "cell_type": "code",
   "execution_count": 54,
   "metadata": {
    "slideshow": {
     "slide_type": "-"
    }
   },
   "outputs": [
    {
     "name": "stdout",
     "output_type": "stream",
     "text": [
      "2020-02-15\n"
     ]
    }
   ],
   "source": [
    "import datetime\n",
    "print(datetime.date.today())"
   ]
  },
  {
   "cell_type": "markdown",
   "metadata": {
    "slideshow": {
     "slide_type": "notes"
    }
   },
   "source": [
    "In this case, `datetime` is a package that groups modules together that have something to do with timekeeping. `date` is a module in the `datetime` package and `today()` is a function in that module that returns todays date. That's a lot of dots right? We can also import specific modules from packages directly and reduce the dot-typing:"
   ]
  },
  {
   "cell_type": "code",
   "execution_count": 55,
   "metadata": {
    "slideshow": {
     "slide_type": "fragment"
    }
   },
   "outputs": [
    {
     "name": "stdout",
     "output_type": "stream",
     "text": [
      "2020-02-15\n"
     ]
    }
   ],
   "source": [
    "from datetime import date\n",
    "print(date.today())"
   ]
  },
  {
   "cell_type": "markdown",
   "metadata": {
    "slideshow": {
     "slide_type": "notes"
    }
   },
   "source": [
    "Still too much typing? You can rename modules on import as well. "
   ]
  },
  {
   "cell_type": "code",
   "execution_count": 56,
   "metadata": {
    "slideshow": {
     "slide_type": "fragment"
    }
   },
   "outputs": [
    {
     "name": "stdout",
     "output_type": "stream",
     "text": [
      "2020-02-15\n"
     ]
    }
   ],
   "source": [
    "import datetime as dt\n",
    "print(dt.date.today())"
   ]
  },
  {
   "cell_type": "markdown",
   "metadata": {
    "slideshow": {
     "slide_type": "notes"
    }
   },
   "source": [
    "Here, we renamed the `datetime` package to `dt` on importing. We can now type `dt` whenever we need it. You will often see this in notebooks or example code online. For instance, the popular `numpy` and `pandas` modules are typically imported like this:"
   ]
  },
  {
   "cell_type": "code",
   "execution_count": 57,
   "metadata": {
    "collapsed": true,
    "slideshow": {
     "slide_type": "notes"
    }
   },
   "outputs": [],
   "source": [
    "import numpy as np\n",
    "import pandas as pd"
   ]
  },
  {
   "cell_type": "code",
   "execution_count": null,
   "metadata": {
    "collapsed": true
   },
   "outputs": [],
   "source": []
  }
 ],
 "metadata": {
  "anaconda-cloud": {},
  "celltoolbar": "Slideshow",
  "kernelspec": {
   "display_name": "Python 3",
   "language": "python",
   "name": "python3"
  },
  "language_info": {
   "codemirror_mode": {
    "name": "ipython",
    "version": 3
   },
   "file_extension": ".py",
   "mimetype": "text/x-python",
   "name": "python",
   "nbconvert_exporter": "python",
   "pygments_lexer": "ipython3",
   "version": "3.6.6"
  },
  "nbpresent": {
   "slides": {
    "00c7f146-467b-4f99-96fe-19307d25f42f": {
     "id": "00c7f146-467b-4f99-96fe-19307d25f42f",
     "prev": "8e4a5b84-8f23-444f-a584-21b59ae16ef1",
     "regions": {
      "0dc0dcd8-9bd5-4ff8-815d-2d8659f406d8": {
       "attrs": {
        "height": 0.8,
        "width": 0.8,
        "x": 0.1,
        "y": 0.1
       },
       "content": {
        "cell": "6e853e65-bd54-48fa-aa1a-bc21c8091320",
        "part": "whole"
       },
       "id": "0dc0dcd8-9bd5-4ff8-815d-2d8659f406d8"
      },
      "107bf5a7-860c-433e-95bd-6ee542822875": {
       "attrs": {
        "height": 0.4,
        "width": 0.8,
        "x": 0.1,
        "y": 0.5
       },
       "content": {
        "cell": "a66cb30d-fa3d-40fd-91d8-ff5809a31835",
        "part": "whole"
       },
       "id": "107bf5a7-860c-433e-95bd-6ee542822875"
      },
      "6ffdf014-5e29-4b40-bd58-aea3e3663bbc": {
       "attrs": {
        "height": 0.4,
        "width": 0.8,
        "x": 0.1,
        "y": 0.5
       },
       "content": {
        "cell": "6b00ba49-724d-4dd7-8d4f-77d6ea418499",
        "part": "whole"
       },
       "id": "6ffdf014-5e29-4b40-bd58-aea3e3663bbc"
      },
      "fe1ac22d-fc68-4b76-b07b-6c30126be602": {
       "attrs": {
        "height": 0.4,
        "width": 0.8,
        "x": 0.1,
        "y": 0.5
       },
       "content": {
        "cell": "a8476e44-c45d-46a3-bd5b-d194e013ac57",
        "part": "whole"
       },
       "id": "fe1ac22d-fc68-4b76-b07b-6c30126be602"
      }
     }
    },
    "25c92f88-6fb8-4202-9824-448b386fa58b": {
     "id": "25c92f88-6fb8-4202-9824-448b386fa58b",
     "prev": null,
     "regions": {
      "25d36250-5d63-407d-b75d-e29dc0e01ff3": {
       "attrs": {
        "height": 0.8,
        "width": 0.8,
        "x": 0.1,
        "y": 0.1
       },
       "content": {
        "cell": "0d6aaa5d-29d2-4da9-92bc-04a4ebf62d29",
        "part": "whole"
       },
       "id": "25d36250-5d63-407d-b75d-e29dc0e01ff3"
      },
      "ccefd897-e5d9-4db9-bf4c-7593bf3a20f6": {
       "attrs": {
        "height": 0.4,
        "width": 0.8,
        "x": 0.1,
        "y": 0.5
       },
       "content": {
        "cell": "0ccbd712-bd74-4a17-8bdf-0eacc452098a",
        "part": "whole"
       },
       "id": "ccefd897-e5d9-4db9-bf4c-7593bf3a20f6"
      }
     }
    },
    "2bda308a-12a6-4a8a-be06-5c9c18fdb69d": {
     "id": "2bda308a-12a6-4a8a-be06-5c9c18fdb69d",
     "prev": "25c92f88-6fb8-4202-9824-448b386fa58b",
     "regions": {
      "8a839d89-b373-4329-899c-bcd3755b48ca": {
       "attrs": {
        "height": 0.8,
        "width": 0.8,
        "x": 0.1,
        "y": 0.1
       },
       "content": {
        "cell": "981bdcc8-642a-45cf-8449-93e3b3e18c9f",
        "part": "whole"
       },
       "id": "8a839d89-b373-4329-899c-bcd3755b48ca"
      }
     }
    },
    "51601a42-f7b1-4c5f-b9fc-68a2726b34ae": {
     "id": "51601a42-f7b1-4c5f-b9fc-68a2726b34ae",
     "prev": "8eadc5e8-75aa-4aa3-9f94-dfd9eea8aa51",
     "regions": {
      "6d607765-c428-4ac4-84f1-895742950058": {
       "attrs": {
        "height": 0.8,
        "width": 0.8,
        "x": 0.1,
        "y": 0.1
       },
       "content": {
        "cell": "51c3f3d3-1a87-41da-b503-5c5411f98e68",
        "part": "whole"
       },
       "id": "6d607765-c428-4ac4-84f1-895742950058"
      }
     }
    },
    "8e4a5b84-8f23-444f-a584-21b59ae16ef1": {
     "id": "8e4a5b84-8f23-444f-a584-21b59ae16ef1",
     "prev": "2bda308a-12a6-4a8a-be06-5c9c18fdb69d",
     "regions": {
      "832233da-f0bf-424f-8254-a96485ef61af": {
       "attrs": {
        "height": 0.4,
        "width": 0.8,
        "x": 0.1,
        "y": 0.5
       },
       "content": {
        "cell": "f32a5428-b88a-42c8-ae43-bf3bdbd955c7",
        "part": "whole"
       },
       "id": "832233da-f0bf-424f-8254-a96485ef61af"
      },
      "a2536fa4-c9f3-4f3d-9f6c-265de908124f": {
       "attrs": {
        "height": 0.8,
        "width": 0.8,
        "x": 0.1,
        "y": 0.1
       },
       "content": {
        "cell": "2329728d-29b7-4ced-9b59-05a71e044be7",
        "part": "whole"
       },
       "id": "a2536fa4-c9f3-4f3d-9f6c-265de908124f"
      },
      "bfcc1c98-292a-4a68-b3d7-ba92c6ad0667": {
       "attrs": {
        "height": 0.4,
        "width": 0.8,
        "x": 0.1,
        "y": 0.5
       },
       "content": {
        "cell": "34a31f71-378f-49ca-8dbe-b4760f5f7ecf",
        "part": "whole"
       },
       "id": "bfcc1c98-292a-4a68-b3d7-ba92c6ad0667"
      }
     }
    },
    "8eadc5e8-75aa-4aa3-9f94-dfd9eea8aa51": {
     "id": "8eadc5e8-75aa-4aa3-9f94-dfd9eea8aa51",
     "prev": "efca445e-fbed-4fb6-8dcd-ce72d5bce11d",
     "regions": {
      "0d3640d7-9594-4514-9bc0-5b6f139868d4": {
       "attrs": {
        "height": 0.8,
        "width": 0.8,
        "x": 0.1,
        "y": 0.1
       },
       "content": {
        "cell": "26c5a11b-bfe7-4186-b3b0-8a828cce57c4",
        "part": "whole"
       },
       "id": "0d3640d7-9594-4514-9bc0-5b6f139868d4"
      }
     }
    },
    "9cea0c1e-c8cd-4e68-b279-3cadd34fb3d9": {
     "id": "9cea0c1e-c8cd-4e68-b279-3cadd34fb3d9",
     "prev": "51601a42-f7b1-4c5f-b9fc-68a2726b34ae",
     "regions": {
      "25d26e25-dc06-4eee-b52e-bd27bf36b72d": {
       "attrs": {
        "height": 0.8,
        "width": 0.8,
        "x": 0.1,
        "y": 0.1
       },
       "content": {
        "cell": "a623d490-d420-41db-baec-64e2e9c5f435",
        "part": "whole"
       },
       "id": "25d26e25-dc06-4eee-b52e-bd27bf36b72d"
      },
      "55e7fba0-c194-4b9a-9d76-a191197e0d21": {
       "attrs": {
        "height": 0.4,
        "width": 0.8,
        "x": 0.1,
        "y": 0.5
       },
       "content": {
        "cell": "9c356098-ac11-4f00-aefd-b4eee6de178a",
        "part": "whole"
       },
       "id": "55e7fba0-c194-4b9a-9d76-a191197e0d21"
      },
      "9bdb42ef-0013-4a0f-b73d-3ec679e59a98": {
       "attrs": {
        "height": 0.4,
        "width": 0.8,
        "x": 0.1,
        "y": 0.5
       },
       "content": {
        "cell": "dca7fa2d-705d-4de4-b2f6-c2a68237ce4e",
        "part": "whole"
       },
       "id": "9bdb42ef-0013-4a0f-b73d-3ec679e59a98"
      }
     }
    },
    "c4058dca-6abd-4891-ae25-a688e13edaf6": {
     "id": "c4058dca-6abd-4891-ae25-a688e13edaf6",
     "prev": "00c7f146-467b-4f99-96fe-19307d25f42f",
     "regions": {
      "2c3adfa4-d398-41f2-b673-9e081c8b5cb5": {
       "attrs": {
        "height": 0.8,
        "width": 0.8,
        "x": 0.1,
        "y": 0.1
       },
       "content": {
        "cell": "572172b1-a2ee-4dc7-af77-6da6a4ff5b8a",
        "part": "whole"
       },
       "id": "2c3adfa4-d398-41f2-b673-9e081c8b5cb5"
      },
      "9647089d-605e-4317-baed-26eb9026138e": {
       "attrs": {
        "height": 0.4,
        "width": 0.8,
        "x": 0.1,
        "y": 0.5
       },
       "content": {
        "cell": "53d8f979-3272-40a0-b0ac-f1e9bb70d797",
        "part": "whole"
       },
       "id": "9647089d-605e-4317-baed-26eb9026138e"
      }
     }
    },
    "efca445e-fbed-4fb6-8dcd-ce72d5bce11d": {
     "id": "efca445e-fbed-4fb6-8dcd-ce72d5bce11d",
     "prev": "c4058dca-6abd-4891-ae25-a688e13edaf6",
     "regions": {
      "483490db-f228-4ded-bc6d-613ac9a9e2fb": {
       "attrs": {
        "height": 0.8,
        "width": 0.8,
        "x": 0.1,
        "y": 0.1
       },
       "content": {
        "cell": "49cf2b2f-1e08-496d-bfca-93ca2472eebe",
        "part": "whole"
       },
       "id": "483490db-f228-4ded-bc6d-613ac9a9e2fb"
      },
      "bc772bc9-92c8-48a8-af6f-5ec32e95a803": {
       "attrs": {
        "height": 0.4,
        "width": 0.8,
        "x": 0.1,
        "y": 0.5
       },
       "content": {
        "cell": "f471d1d1-553b-49a0-8db3-58746c272bd4",
        "part": "whole"
       },
       "id": "bc772bc9-92c8-48a8-af6f-5ec32e95a803"
      },
      "dab909f1-3f33-4afe-a602-2545bf1a97b7": {
       "attrs": {
        "height": 0.4,
        "width": 0.8,
        "x": 0.1,
        "y": 0.5
       },
       "content": {
        "cell": "993aaa9c-4125-4a45-88f9-b895f1edf64e",
        "part": "whole"
       },
       "id": "dab909f1-3f33-4afe-a602-2545bf1a97b7"
      }
     }
    }
   },
   "themes": {
    "default": "5042b064-01df-4981-9b6b-358d58fe7e48",
    "theme": {}
   }
  }
 },
 "nbformat": 4,
 "nbformat_minor": 2
}
